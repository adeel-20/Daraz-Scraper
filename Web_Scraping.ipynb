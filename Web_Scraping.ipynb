{
 "cells": [
  {
   "cell_type": "markdown",
   "metadata": {},
   "source": [
    "# Programming for AI Lab 10 (Web Scraping 2)"
   ]
  },
  {
   "cell_type": "markdown",
   "metadata": {},
   "source": [
    "### Rename the file and write your name and roll number in the cells below"
   ]
  },
  {
   "cell_type": "markdown",
   "metadata": {},
   "source": [
    "# Student Name: Adeel Subhan\n",
    "# Student ID: 19I-1869"
   ]
  },
  {
   "cell_type": "markdown",
   "metadata": {},
   "source": [
    "# Lab 10 Task (Real World Problem)"
   ]
  },
  {
   "cell_type": "markdown",
   "metadata": {},
   "source": [
    "### Suppose I am interested in buying a tesla but i would like to perform some market research first.\n",
    "### I know that any new technology has issues at first which are settled overtime.\n",
    "### So, I found a website: https://www.bloomberg.com/graphics/2019-tesla-model-3-survey/\n",
    "### which has a barplot/histogram that shows minor issues and major issues reported overtime\n",
    "### before making a decision i wanted to scrape the data load it into a pandas dataframe and plot a curve for minor against major issues (Because i dont like histograms)\n",
    "### But when i tried to scrape the data i found out that the values that i am trying to scrape \n",
    "### (e.g Minor Issues = 63.7,Major Issues = 10.0 for Jan 2018 and so on) are being generated dynamically i.e. by javascript and i am not able to see those values in html."
   ]
  },
  {
   "cell_type": "code",
   "execution_count": 1,
   "metadata": {},
   "outputs": [],
   "source": [
    "### your code starts here and can take on any number of cells to get the job done.\n",
    "from bs4 import BeautifulSoup\n",
    "from selenium import webdriver\n",
    "import pandas as pd\n",
    "import time\n",
    "import re"
   ]
  },
  {
   "cell_type": "code",
   "execution_count": 2,
   "metadata": {},
   "outputs": [],
   "source": [
    "driver = webdriver.Firefox()\n",
    "driver.get('https://www.bloomberg.com/graphics/2019-tesla-model-3-survey/')\n",
    "time.sleep(7)\n",
    "\n",
    "html = driver.page_source\n",
    "driver.quit()\n",
    "\n",
    "soup = BeautifulSoup(html, \"html.parser\")"
   ]
  },
  {
   "cell_type": "code",
   "execution_count": 21,
   "metadata": {},
   "outputs": [],
   "source": [
    "minors = soup.find('g', class_='series f series-0').find_all('rect', class_='column')\n",
    "majors = soup.find('g', class_='series f series-1').find_all('rect', class_='column')"
   ]
  },
  {
   "cell_type": "code",
   "execution_count": 36,
   "metadata": {},
   "outputs": [],
   "source": [
    "major_heights = []\n",
    "minor_heights = []\n",
    "\n",
    "total = []\n",
    "\n",
    "for minor in minors:\n",
    "    temp = str(minor).split('\"')\n",
    "    total.append(int(temp[9]))\n",
    "    minor_heights.append(int(temp[3]))\n",
    "\n",
    "i = 0\n",
    "for major in majors:\n",
    "    temp = str(major).split('\"')\n",
    "    total[i] += int(temp[9])\n",
    "    major_heights.append(int(temp[3]))\n",
    "    i += 1\n",
    "\n",
    "for j in range(len(total)):\n",
    "    minor_heights[j] = round((minor_heights[j]*150)/total[j], 1)\n",
    "    major_heights[j] = round((major_heights[j]*150)/total[j], 1)"
   ]
  },
  {
   "cell_type": "code",
   "execution_count": 38,
   "metadata": {},
   "outputs": [
    {
     "data": {
      "text/plain": [
       "[9.7,\n",
       " 14.0,\n",
       " 5.1,\n",
       " 1.1,\n",
       " 3.5,\n",
       " 7.7,\n",
       " 4.8,\n",
       " 6.7,\n",
       " 6.3,\n",
       " 4.7,\n",
       " 2.9,\n",
       " 5.0,\n",
       " 1.5,\n",
       " 15.0,\n",
       " 6.5,\n",
       " 5.6,\n",
       " 1.6,\n",
       " 1.4,\n",
       " 8.0,\n",
       " 0.9,\n",
       " 2.1]"
      ]
     },
     "execution_count": 38,
     "metadata": {},
     "output_type": "execute_result"
    }
   ],
   "source": [
    "minor_heights\n",
    "major_heights"
   ]
  },
  {
   "cell_type": "code",
   "execution_count": 41,
   "metadata": {},
   "outputs": [],
   "source": [
    "from matplotlib import pyplot as plt\n",
    "import numpy as np"
   ]
  },
  {
   "cell_type": "code",
   "execution_count": 46,
   "metadata": {},
   "outputs": [
    {
     "data": {
      "image/png": "[encoded data removed]",
      "text/plain": [
       "<Figure size 432x288 with 1 Axes>"
      ]
     },
     "metadata": {
      "needs_background": "light"
     },
     "output_type": "display_data"
    }
   ],
   "source": [
    "x_axis = np.array(np.linspace(0, 100, 21))\n",
    "plt.plot(x_axis, minor_heights, label='Minor Issues')\n",
    "plt.plot(x_axis, major_heights, label='Major Issues')\n",
    "plt.ylabel('Major and Minor Issues')\n",
    "plt.xlabel('Percentage %')\n",
    "plt.title('Quality Improves in 2019')\n",
    "plt.legend()\n",
    "plt.show()"
   ]
  },
  {
   "cell_type": "code",
   "execution_count": null,
   "metadata": {},
   "outputs": [],
   "source": []
  }
 ],
 "metadata": {
  "kernelspec": {
   "display_name": "Python 3",
   "language": "python",
   "name": "python3"
  },
  "language_info": {
   "codemirror_mode": {
    "name": "ipython",
    "version": 3
   },
   "file_extension": ".py",
   "mimetype": "text/x-python",
   "name": "python",
   "nbconvert_exporter": "python",
   "pygments_lexer": "ipython3",
   "version": "3.8.5"
  }
 },
 "nbformat": 4,
 "nbformat_minor": 4
}
